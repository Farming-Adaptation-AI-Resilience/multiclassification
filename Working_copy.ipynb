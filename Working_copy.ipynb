{
  "nbformat": 4,
  "nbformat_minor": 0,
  "metadata": {
    "colab": {
      "name": "Working_copy.ipynb",
      "provenance": [],
      "collapsed_sections": []
    },
    "kernelspec": {
      "display_name": "Python 3",
      "name": "python3"
    },
    "language_info": {
      "name": "python"
    }
  },
  "cells": [
    {
      "cell_type": "code",
      "metadata": {
        "id": "nqOB-j_9SWrc"
      },
      "source": [
        "import cv2\n",
        "from google.colab.patches import cv2_imshow\n",
        "import numpy as np\n",
        "from sklearn.linear_model import SGDClassifier\n",
        "import matplotlib.pyplot as plt\n",
        "import pandas as pd\n",
        "import pickle\n",
        "from datetime import datetime\n",
        "from sklearn.metrics import jaccard_score,accuracy_score,f1_score\n",
        "import tensorflow as tf\n",
        "import os\n",
        "from PIL import Image as im\n",
        "from google.colab import drive\n",
        "from sklearn.decomposition import PCA\n",
        "from sklearn.preprocessing import StandardScaler"
      ],
      "execution_count": null,
      "outputs": []
    },
    {
      "cell_type": "code",
      "metadata": {
        "id": "UrjhIG7Gb5Ub"
      },
      "source": [
        "\n",
        "\n",
        "def read_input(file_):\n",
        "    img = cv2.imread(folder + 'train_partition_images/full_color_training_' + str(file_) + '.png') #full colour rgb image ( 3 dimensional )\n",
        "    #print(img)\n",
        "    img = np.reshape(img, (256*256,3)) \n",
        "    #print(\"img_dim: \",img.ndim) \n",
        "    return img\n",
        "\n",
        "def read_test_input(file_):\n",
        "    img = cv2.imread(folder + 'test_partition_images/full_color_training_' + str(file_) + '.png') #full colour rgb image ( 3 dimensional )\n",
        "    #print(img)\n",
        "    img = np.reshape(img, (256*256,3)) \n",
        "    #print(\"img_dim: \",img.ndim) \n",
        "    return img"
      ],
      "execution_count": null,
      "outputs": []
    },
    {
      "cell_type": "code",
      "metadata": {
        "id": "rUcNpRdsdF_3"
      },
      "source": [
        "def read_labels(file_):\n",
        "    label_img = cv2.imread(folder + 'train_partition_ground_truth/ground_truth_training_' + str(file_) + '.png')\n",
        "    #print(\"label_img_before: \",label_img.ndim)\n",
        "    label = label_img[:,:,0] #one channel\n",
        "    labels = np.reshape(label, (256*256))\n",
        "    #print(label)\n",
        "    #print(\"label_dim: \",label.ndim)\n",
        "    return labels\n",
        "\n",
        "def read_test_labels(file_):\n",
        "    label_img = cv2.imread(folder + 'test_partition_ground_truth/ground_truth_training_' + str(file_) + '.png')\n",
        "    #print(\"label_img_before: \",label_img.ndim)\n",
        "    label = label_img[:,:,0] #one channel\n",
        "    labels = np.reshape(label, (256*256))\n",
        "    #print(label)\n",
        "    #print(\"label_dim: \",label.ndim)\n",
        "    return labels"
      ],
      "execution_count": null,
      "outputs": []
    },
    {
      "cell_type": "code",
      "metadata": {
        "id": "8qQmhTQTPBs7"
      },
      "source": [
        "def to_string(files,i):\n",
        "    return files['name'][i]\n"
      ],
      "execution_count": null,
      "outputs": []
    },
    {
      "cell_type": "code",
      "metadata": {
        "id": "jIaAuecGKWQE"
      },
      "source": [
        "def train_scaling(X_train):\n",
        "  \n",
        "  scaler.fit(X_train)\n",
        "  X_train = scaler.transform(X_train)\n",
        "  \n",
        "  pca.fit(X_train)\n",
        "\n",
        "  X_train = pca.transform(X_train)\n",
        "  X_train = np.array(X_train)\n",
        "  return X_train"
      ],
      "execution_count": null,
      "outputs": []
    },
    {
      "cell_type": "code",
      "metadata": {
        "id": "z47y48yoKrXC"
      },
      "source": [
        "def test_scaling(X_test):\n",
        "  \n",
        "  X_test = scaler.transform(X_test)\n",
        "  X_test = pca.transform(X_test)\n",
        "  X_test= np.array(X_test)\n",
        "  return X_test"
      ],
      "execution_count": null,
      "outputs": []
    },
    {
      "cell_type": "code",
      "metadata": {
        "colab": {
          "base_uri": "https://localhost:8080/"
        },
        "id": "6mNOOLyieEnB",
        "outputId": "82064a52-ddce-4c04-9a4e-9a3e13ff539b"
      },
      "source": [
        "start_time = datetime.now()\n",
        "print(str(start_time))\n"
      ],
      "execution_count": null,
      "outputs": [
        {
          "output_type": "stream",
          "text": [
            "2021-07-21 20:23:45.751826\n"
          ],
          "name": "stdout"
        }
      ]
    },
    {
      "cell_type": "code",
      "metadata": {
        "id": "85lZRuupcklS"
      },
      "source": [
        "folder='/content/drive/MyDrive/SequoiaMulti_30/'\n"
      ],
      "execution_count": null,
      "outputs": []
    },
    {
      "cell_type": "code",
      "metadata": {
        "id": "51iQfr4EeIkl"
      },
      "source": [
        "files =pd.read_csv(folder + 'train.csv')\n"
      ],
      "execution_count": null,
      "outputs": []
    },
    {
      "cell_type": "code",
      "metadata": {
        "id": "JRg0DW02mdsY"
      },
      "source": [
        "#image=cv2.imread('/content/drive/MyDrive/SequoiaMulti_30/train_partition_images/full_color_training_1.png')\n",
        "#print(image)\n",
        "#print(image.shape)\n",
        "#print(image[:256,:256,0])\n",
        "#cv2_imshow(image[:256,:256,])"
      ],
      "execution_count": null,
      "outputs": []
    },
    {
      "cell_type": "code",
      "metadata": {
        "id": "PBbcAaHD374z"
      },
      "source": [
        "num = to_string(files,0)\n",
        "X_train = read_input(num)\n",
        "y_train = read_labels(num)"
      ],
      "execution_count": null,
      "outputs": []
    },
    {
      "cell_type": "code",
      "metadata": {
        "id": "S9MQorXQKArc"
      },
      "source": [
        "scaler = StandardScaler()\n",
        "pca = PCA(0.95)"
      ],
      "execution_count": null,
      "outputs": []
    },
    {
      "cell_type": "code",
      "metadata": {
        "id": "kRPelb6YoUay"
      },
      "source": [
        "model = SGDClassifier(max_iter=1000,loss='hinge',fit_intercept=False)"
      ],
      "execution_count": null,
      "outputs": []
    },
    {
      "cell_type": "code",
      "metadata": {
        "colab": {
          "base_uri": "https://localhost:8080/"
        },
        "id": "mnF4z8NcoaTL",
        "outputId": "88315892-4b47-44f8-fe7a-6cc7fc545b21"
      },
      "source": [
        "for file_ in range(1,len(files['name'])):\n",
        "    num = to_string(files,file_)\n",
        "    if(file_ == 1001 or file_ == 2001):\n",
        "        X_train = read_input(num)\n",
        "        y_train = read_labels(num)\n",
        "        continue\n",
        "        \n",
        "    if(file_%100 == 0):\n",
        "        print(num)\n",
        "        #print(file_)\n",
        "    #print(num)\n",
        "    X_train = np.concatenate((X_train,read_input(num)))\n",
        "    y_train = np.concatenate((y_train,read_labels(num)))\n",
        "    #break\n",
        "    if( file_%1000==0 and file_!=0):\n",
        "        print('Done Loading:')\n",
        "        #model_log = model.partial_fit(X_train,y_train,classes=np.unique(y_train))\n",
        "        X_train=train_scaling(X_train)\n",
        "        \n",
        "        model_log = model.fit(X_train,y_train)\n",
        "        #break\n",
        "\n",
        "\n"
      ],
      "execution_count": null,
      "outputs": [
        {
          "output_type": "stream",
          "text": [
            "101\n",
            "201\n",
            "301\n",
            "401\n",
            "501\n",
            "601\n",
            "701\n",
            "801\n",
            "901\n",
            "1001\n",
            "Done Loading:\n",
            "1101\n",
            "1201\n",
            "1301\n",
            "1401\n",
            "1501\n",
            "1601\n",
            "1701\n",
            "1801\n"
          ],
          "name": "stdout"
        }
      ]
    },
    {
      "cell_type": "code",
      "metadata": {
        "colab": {
          "base_uri": "https://localhost:8080/"
        },
        "id": "honunMxDootW",
        "outputId": "3224e48f-8fa6-4375-e197-169a6c9de0af"
      },
      "source": [
        "\n",
        "print(X_train.shape)\n",
        "print(y_train.shape)\n",
        "\n",
        "pickle.dump(model_log, open(folder + 'linear_svm_' + str(file_) + '_images_fold_' + '.sav', 'wb'))\n",
        "\n",
        "\n"
      ],
      "execution_count": null,
      "outputs": [
        {
          "output_type": "stream",
          "text": [
            "(57278464, 3)\n",
            "(57278464,)\n"
          ],
          "name": "stdout"
        }
      ]
    },
    {
      "cell_type": "code",
      "metadata": {
        "id": "BiiEZrPHUm1_"
      },
      "source": [
        "#from google.colab import drive\n",
        "#drive.mount('/content/drive')"
      ],
      "execution_count": null,
      "outputs": []
    },
    {
      "cell_type": "code",
      "metadata": {
        "id": "VhdUXbMLuaEI"
      },
      "source": [
        ""
      ],
      "execution_count": null,
      "outputs": []
    },
    {
      "cell_type": "code",
      "metadata": {
        "id": "8C4_v7-L8kdw"
      },
      "source": [
        "model = pickle.load(open(folder + 'linear_svm_1874_images_fold_.sav', 'rb'))\n"
      ],
      "execution_count": null,
      "outputs": []
    },
    {
      "cell_type": "code",
      "metadata": {
        "colab": {
          "base_uri": "https://localhost:8080/"
        },
        "id": "QqAW1kGV1Cw3",
        "outputId": "b76fcc3a-889d-4fdd-f304-d430f9d45dd1"
      },
      "source": [
        "test_files = pd.read_csv(folder + 'test.csv') \n",
        "print(len(test_files['name']))"
      ],
      "execution_count": null,
      "outputs": [
        {
          "output_type": "stream",
          "text": [
            "450\n"
          ],
          "name": "stdout"
        }
      ]
    },
    {
      "cell_type": "code",
      "metadata": {
        "id": "3-sPjmnokhtK"
      },
      "source": [
        "predictions_folder = folder + 'Predictions_' + '/'\n",
        "if not os.path.exists(predictions_folder):\n",
        "    os.makedirs(predictions_folder)"
      ],
      "execution_count": null,
      "outputs": []
    },
    {
      "cell_type": "code",
      "metadata": {
        "id": "13sKlzCPkPxG"
      },
      "source": [
        "height=256\n",
        "width=256\n",
        "final_img = 0\n",
        "points = height*width"
      ],
      "execution_count": null,
      "outputs": []
    },
    {
      "cell_type": "code",
      "metadata": {
        "id": "vhPvWikiRs8M"
      },
      "source": [
        ""
      ],
      "execution_count": null,
      "outputs": []
    },
    {
      "cell_type": "code",
      "metadata": {
        "colab": {
          "base_uri": "https://localhost:8080/"
        },
        "id": "5xqYbu2ICIs6",
        "outputId": "50539a7e-d0f9-441a-a0b5-60bd9c3ffeb3"
      },
      "source": [
        "num = to_string(test_files,0)\n",
        "X_test=read_test_input(num)\n",
        "X_test=test_scaling(X_test)\n",
        "y_pred_array = model.predict(X_test)\n",
        "y_pred_img = np.reshape(y_pred_array,(height,width,1))\n",
        "final_img = np.stack((y_pred_img,y_pred_img,y_pred_img),axis=2)\n",
        "final_img = final_img[:,:,:,0]\n",
        "y_color = np.where(final_img==1,60,final_img)\n",
        "y_color = np.where(y_color==2,255,y_color)\n",
        "cv2.imwrite(predictions_folder + 'pred_' + str(num) + '.png', y_color)\n",
        "#print(np.unique(y_color))"
      ],
      "execution_count": null,
      "outputs": [
        {
          "output_type": "execute_result",
          "data": {
            "text/plain": [
              "True"
            ]
          },
          "metadata": {
            "tags": []
          },
          "execution_count": 22
        }
      ]
    },
    {
      "cell_type": "code",
      "metadata": {
        "id": "sk4O3ga3_ELH"
      },
      "source": [
        "for file_ in range(1,len(test_files['name'])):\n",
        "    num = to_string(test_files,file_)\n",
        "    \n",
        "        \n",
        "    #if(file_%100 == 0):\n",
        "        #print(file_)\n",
        "    X_test=read_test_input(num)\n",
        "    X_test=test_scaling(X_test)\n",
        "    y_pred = model.predict(X_test)\n",
        "    \n",
        "    \n",
        "    y_pred_array = np.concatenate((y_pred_array,y_pred))\n",
        "    #Converting to IMAGE\n",
        "    y_pred_img = np.reshape(y_pred,(height,width,1))\n",
        "    #print(y_pred_img.shape)\n",
        "    \n",
        "    final_img = np.stack((y_pred_img,y_pred_img,y_pred_img),axis=2)\n",
        "    #print(final_img.shape)\n",
        "    final_img = final_img[:,:,:,0]\n",
        "    #print(final_img.shape)\n",
        "    #print(np.unique(final_img))\n",
        "    y_color = np.where(final_img==1,60,final_img)\n",
        "    y_color = np.where(y_color==2,255,y_color)\n",
        "    cv2.imwrite(predictions_folder + 'pred_' + str(num) + '.png', y_color)\n",
        "    #print(np.unique(y_color))\n",
        "    #plt.imshow(y_color)\n",
        "    #plt.show()\n",
        "    #if(file_ == 2):\n",
        "    #  break\n",
        "        \n"
      ],
      "execution_count": null,
      "outputs": []
    },
    {
      "cell_type": "code",
      "metadata": {
        "id": "jApTW5auBrZC",
        "colab": {
          "base_uri": "https://localhost:8080/"
        },
        "outputId": "2513b9fc-46a5-4a02-b4d4-58b306aa1a43"
      },
      "source": [
        "print(len(test_files['name']))"
      ],
      "execution_count": null,
      "outputs": [
        {
          "output_type": "stream",
          "text": [
            "450\n"
          ],
          "name": "stdout"
        }
      ]
    },
    {
      "cell_type": "code",
      "metadata": {
        "id": "K7FwUKM6B6-0",
        "colab": {
          "base_uri": "https://localhost:8080/"
        },
        "outputId": "10ea4445-7ffa-49b3-9b34-abd01a6ec578"
      },
      "source": [
        "num = to_string(test_files,0)\n",
        "y_test_array = read_test_labels(num)\n",
        "print(y_test_array)\n"
      ],
      "execution_count": null,
      "outputs": [
        {
          "output_type": "stream",
          "text": [
            "[0 0 0 ... 0 0 0]\n"
          ],
          "name": "stdout"
        }
      ]
    },
    {
      "cell_type": "code",
      "metadata": {
        "id": "uPMvr5Gy7f2s",
        "colab": {
          "base_uri": "https://localhost:8080/"
        },
        "outputId": "31b25ef4-97f3-4747-9e7c-540094a18831"
      },
      "source": [
        "#TEST ARRAY FOR GROUND TRUTH LABELS : Y_TRUE\n",
        "\n",
        "for file_ in range(1,len(test_files['name'])):\n",
        "    num = to_string(test_files,file_)\n",
        "    if(file_ == 1001 or file_ == 2001):\n",
        "        \n",
        "        y_test_array = read_test_labels(num)\n",
        "        continue\n",
        "        \n",
        "    if(file_%100 == 0):\n",
        "        print(num)\n",
        "        #print(file_)\n",
        "    #print(num)\n",
        "   \n",
        "    y_test_array = np.concatenate((y_test_array,read_test_labels(num)))\n",
        "    #break\n",
        "    if( file_%1000==0 and file_!=0):\n",
        "        print('Done Loading:')\n",
        "\n",
        "\n"
      ],
      "execution_count": null,
      "outputs": [
        {
          "output_type": "stream",
          "text": [
            "101\n",
            "201\n",
            "301\n",
            "401\n"
          ],
          "name": "stdout"
        }
      ]
    },
    {
      "cell_type": "code",
      "metadata": {
        "id": "vXzfrSfHoYar",
        "colab": {
          "base_uri": "https://localhost:8080/"
        },
        "outputId": "61ff6a37-94b6-44d9-e706-dfc0cc1ccba8"
      },
      "source": [
        "print(type(y_pred_array))\n",
        "print(y_pred_array.ndim)\n",
        "print(type(y_pred_array))\n",
        "print(y_pred_array[0:10])\n",
        "print(y_pred_array[1:10])\n",
        "print(y_pred_array.shape)\n",
        "np.unique(y_pred_array)"
      ],
      "execution_count": null,
      "outputs": [
        {
          "output_type": "stream",
          "text": [
            "<class 'numpy.ndarray'>\n",
            "1\n",
            "<class 'numpy.ndarray'>\n",
            "[1 0 0 0 0 0 0 0 0 0]\n",
            "[0 0 0 0 0 0 0 0 0]\n",
            "(29491200,)\n"
          ],
          "name": "stdout"
        },
        {
          "output_type": "execute_result",
          "data": {
            "text/plain": [
              "array([0, 1, 2], dtype=uint8)"
            ]
          },
          "metadata": {
            "tags": []
          },
          "execution_count": 27
        }
      ]
    },
    {
      "cell_type": "code",
      "metadata": {
        "id": "0ekOY-Av_jiC",
        "colab": {
          "base_uri": "https://localhost:8080/"
        },
        "outputId": "1effd790-bb62-4f13-99c1-ca005d990303"
      },
      "source": [
        "print(type(y_test_array))\n",
        "print(y_test_array.ndim)\n",
        "print(type(y_test_array))\n",
        "print(y_test_array[:10])\n",
        "print(y_test_array.shape)\n",
        "np.unique(y_test_array)"
      ],
      "execution_count": null,
      "outputs": [
        {
          "output_type": "stream",
          "text": [
            "<class 'numpy.ndarray'>\n",
            "1\n",
            "<class 'numpy.ndarray'>\n",
            "[0 0 0 0 0 0 0 0 0 0]\n",
            "(29491200,)\n"
          ],
          "name": "stdout"
        },
        {
          "output_type": "execute_result",
          "data": {
            "text/plain": [
              "array([0, 1, 2], dtype=uint8)"
            ]
          },
          "metadata": {
            "tags": []
          },
          "execution_count": 28
        }
      ]
    },
    {
      "cell_type": "code",
      "metadata": {
        "id": "2wctS1wgZbru",
        "colab": {
          "base_uri": "https://localhost:8080/"
        },
        "outputId": "9aa92565-62d0-4cfd-96ef-5898d3231119"
      },
      "source": [
        "comp=y_pred_array==y_test_array\n",
        "print(comp.all())"
      ],
      "execution_count": null,
      "outputs": [
        {
          "output_type": "stream",
          "text": [
            "False\n"
          ],
          "name": "stdout"
        }
      ]
    },
    {
      "cell_type": "code",
      "metadata": {
        "id": "1-AT-Jl5ayXX"
      },
      "source": [
        "jaccard_scores = [0,0]\n",
        "f1_scores = [0,0]"
      ],
      "execution_count": null,
      "outputs": []
    },
    {
      "cell_type": "code",
      "metadata": {
        "id": "TMyA7w57Z7r2"
      },
      "source": [
        "def the_jaccard_metric(y_pred_array,y_test_array): #double check metric functions\n",
        "  # do per image, add metric per image, find avg\n",
        "  gap_begin=0\n",
        "  gap=65536\n",
        "  for i in range(1,450):\n",
        "    jaccard_scores[0] += jaccard_score(y_test_array[gap_begin:gap], y_pred_array[gap_begin:gap],average='macro')\n",
        "    jaccard_scores[1] += jaccard_score(y_test_array[gap_begin:gap], y_pred_array[gap_begin:gap],average='weighted')\n",
        "    gap_begin=gap+1\n",
        "    gap+=65536\n",
        "    print(gap)\n",
        "  return jaccard_scores\n",
        "    "
      ],
      "execution_count": null,
      "outputs": []
    },
    {
      "cell_type": "code",
      "metadata": {
        "id": "D22JG0I-t8ib"
      },
      "source": [
        "def the_f1_metric(y_pred_array,y_test_array): #double check metric functions\n",
        "  gap_begin=0\n",
        "  gap=65536 \n",
        "  for i in range(1,450):\n",
        "    f1_scores[0] += f1_score(y_test_array[gap_begin:gap], y_pred_array[gap_begin:gap],average='macro')\n",
        "    f1_scores[1] += f1_score(y_test_array[gap_begin:gap], y_pred_array[gap_begin:gap],average='weighted')\n",
        "    gap_begin=gap+1\n",
        "    gap+=65536 \n",
        "  return f1_scores"
      ],
      "execution_count": null,
      "outputs": []
    },
    {
      "cell_type": "code",
      "metadata": {
        "id": "ROoRQzR9N47g",
        "colab": {
          "base_uri": "https://localhost:8080/"
        },
        "outputId": "282b09e2-03a5-4417-f22c-2683cb341fa4"
      },
      "source": [
        "a = np.array([[1, 2]])\n",
        "b = np.array([[5, 6]])\n",
        "c=np.concatenate((a, b), axis=0)\n",
        "c[0]"
      ],
      "execution_count": null,
      "outputs": [
        {
          "output_type": "execute_result",
          "data": {
            "text/plain": [
              "array([1, 2])"
            ]
          },
          "metadata": {
            "tags": []
          },
          "execution_count": 33
        }
      ]
    },
    {
      "cell_type": "code",
      "metadata": {
        "id": "DrftMAvq4N8z",
        "colab": {
          "base_uri": "https://localhost:8080/"
        },
        "outputId": "6c98a6ea-844b-4f16-db27-88ee70fa1bda"
      },
      "source": [
        "my_jaccard_metric=the_jaccard_metric(y_pred_array,y_test_array)"
      ],
      "execution_count": null,
      "outputs": [
        {
          "output_type": "stream",
          "text": [
            "131072\n",
            "196608\n",
            "262144\n",
            "327680\n",
            "393216\n",
            "458752\n",
            "524288\n",
            "589824\n",
            "655360\n",
            "720896\n",
            "786432\n",
            "851968\n",
            "917504\n",
            "983040\n",
            "1048576\n",
            "1114112\n",
            "1179648\n",
            "1245184\n",
            "1310720\n",
            "1376256\n",
            "1441792\n",
            "1507328\n",
            "1572864\n",
            "1638400\n",
            "1703936\n",
            "1769472\n",
            "1835008\n",
            "1900544\n",
            "1966080\n",
            "2031616\n",
            "2097152\n",
            "2162688\n",
            "2228224\n",
            "2293760\n",
            "2359296\n",
            "2424832\n",
            "2490368\n",
            "2555904\n",
            "2621440\n",
            "2686976\n",
            "2752512\n",
            "2818048\n",
            "2883584\n",
            "2949120\n",
            "3014656\n",
            "3080192\n",
            "3145728\n",
            "3211264\n",
            "3276800\n",
            "3342336\n",
            "3407872\n",
            "3473408\n",
            "3538944\n",
            "3604480\n",
            "3670016\n",
            "3735552\n",
            "3801088\n",
            "3866624\n",
            "3932160\n",
            "3997696\n",
            "4063232\n",
            "4128768\n",
            "4194304\n",
            "4259840\n",
            "4325376\n",
            "4390912\n",
            "4456448\n",
            "4521984\n",
            "4587520\n",
            "4653056\n",
            "4718592\n",
            "4784128\n",
            "4849664\n",
            "4915200\n",
            "4980736\n",
            "5046272\n",
            "5111808\n",
            "5177344\n",
            "5242880\n",
            "5308416\n",
            "5373952\n",
            "5439488\n",
            "5505024\n",
            "5570560\n",
            "5636096\n",
            "5701632\n",
            "5767168\n",
            "5832704\n",
            "5898240\n",
            "5963776\n",
            "6029312\n",
            "6094848\n",
            "6160384\n",
            "6225920\n",
            "6291456\n",
            "6356992\n",
            "6422528\n",
            "6488064\n",
            "6553600\n",
            "6619136\n",
            "6684672\n",
            "6750208\n",
            "6815744\n",
            "6881280\n",
            "6946816\n",
            "7012352\n",
            "7077888\n",
            "7143424\n",
            "7208960\n",
            "7274496\n",
            "7340032\n",
            "7405568\n",
            "7471104\n",
            "7536640\n",
            "7602176\n",
            "7667712\n",
            "7733248\n",
            "7798784\n",
            "7864320\n",
            "7929856\n",
            "7995392\n",
            "8060928\n",
            "8126464\n",
            "8192000\n",
            "8257536\n",
            "8323072\n",
            "8388608\n",
            "8454144\n",
            "8519680\n",
            "8585216\n",
            "8650752\n",
            "8716288\n",
            "8781824\n",
            "8847360\n",
            "8912896\n",
            "8978432\n",
            "9043968\n",
            "9109504\n",
            "9175040\n",
            "9240576\n",
            "9306112\n",
            "9371648\n",
            "9437184\n",
            "9502720\n",
            "9568256\n",
            "9633792\n",
            "9699328\n",
            "9764864\n",
            "9830400\n",
            "9895936\n",
            "9961472\n",
            "10027008\n",
            "10092544\n",
            "10158080\n",
            "10223616\n",
            "10289152\n",
            "10354688\n",
            "10420224\n",
            "10485760\n",
            "10551296\n",
            "10616832\n",
            "10682368\n",
            "10747904\n",
            "10813440\n",
            "10878976\n",
            "10944512\n",
            "11010048\n",
            "11075584\n",
            "11141120\n",
            "11206656\n",
            "11272192\n",
            "11337728\n",
            "11403264\n",
            "11468800\n",
            "11534336\n",
            "11599872\n",
            "11665408\n",
            "11730944\n",
            "11796480\n",
            "11862016\n",
            "11927552\n",
            "11993088\n",
            "12058624\n",
            "12124160\n",
            "12189696\n",
            "12255232\n",
            "12320768\n",
            "12386304\n",
            "12451840\n",
            "12517376\n",
            "12582912\n",
            "12648448\n",
            "12713984\n",
            "12779520\n",
            "12845056\n",
            "12910592\n",
            "12976128\n",
            "13041664\n",
            "13107200\n",
            "13172736\n",
            "13238272\n",
            "13303808\n",
            "13369344\n",
            "13434880\n",
            "13500416\n",
            "13565952\n",
            "13631488\n",
            "13697024\n",
            "13762560\n",
            "13828096\n",
            "13893632\n",
            "13959168\n",
            "14024704\n",
            "14090240\n",
            "14155776\n",
            "14221312\n",
            "14286848\n",
            "14352384\n",
            "14417920\n",
            "14483456\n",
            "14548992\n",
            "14614528\n",
            "14680064\n",
            "14745600\n",
            "14811136\n",
            "14876672\n",
            "14942208\n",
            "15007744\n",
            "15073280\n",
            "15138816\n",
            "15204352\n",
            "15269888\n",
            "15335424\n",
            "15400960\n",
            "15466496\n",
            "15532032\n",
            "15597568\n",
            "15663104\n",
            "15728640\n",
            "15794176\n",
            "15859712\n",
            "15925248\n",
            "15990784\n",
            "16056320\n",
            "16121856\n",
            "16187392\n",
            "16252928\n",
            "16318464\n",
            "16384000\n",
            "16449536\n",
            "16515072\n",
            "16580608\n",
            "16646144\n",
            "16711680\n",
            "16777216\n",
            "16842752\n",
            "16908288\n",
            "16973824\n",
            "17039360\n",
            "17104896\n",
            "17170432\n",
            "17235968\n",
            "17301504\n",
            "17367040\n",
            "17432576\n",
            "17498112\n",
            "17563648\n",
            "17629184\n",
            "17694720\n",
            "17760256\n",
            "17825792\n",
            "17891328\n",
            "17956864\n",
            "18022400\n",
            "18087936\n",
            "18153472\n",
            "18219008\n",
            "18284544\n",
            "18350080\n",
            "18415616\n",
            "18481152\n",
            "18546688\n",
            "18612224\n",
            "18677760\n",
            "18743296\n",
            "18808832\n",
            "18874368\n",
            "18939904\n",
            "19005440\n",
            "19070976\n",
            "19136512\n",
            "19202048\n",
            "19267584\n",
            "19333120\n",
            "19398656\n",
            "19464192\n",
            "19529728\n",
            "19595264\n",
            "19660800\n",
            "19726336\n",
            "19791872\n",
            "19857408\n",
            "19922944\n",
            "19988480\n",
            "20054016\n",
            "20119552\n",
            "20185088\n",
            "20250624\n",
            "20316160\n",
            "20381696\n",
            "20447232\n",
            "20512768\n",
            "20578304\n",
            "20643840\n",
            "20709376\n",
            "20774912\n",
            "20840448\n",
            "20905984\n",
            "20971520\n",
            "21037056\n",
            "21102592\n",
            "21168128\n",
            "21233664\n",
            "21299200\n",
            "21364736\n",
            "21430272\n",
            "21495808\n",
            "21561344\n",
            "21626880\n",
            "21692416\n",
            "21757952\n",
            "21823488\n",
            "21889024\n",
            "21954560\n",
            "22020096\n",
            "22085632\n",
            "22151168\n",
            "22216704\n",
            "22282240\n",
            "22347776\n",
            "22413312\n",
            "22478848\n",
            "22544384\n",
            "22609920\n",
            "22675456\n",
            "22740992\n",
            "22806528\n",
            "22872064\n",
            "22937600\n",
            "23003136\n",
            "23068672\n",
            "23134208\n",
            "23199744\n",
            "23265280\n",
            "23330816\n",
            "23396352\n",
            "23461888\n",
            "23527424\n",
            "23592960\n",
            "23658496\n",
            "23724032\n",
            "23789568\n",
            "23855104\n",
            "23920640\n",
            "23986176\n",
            "24051712\n",
            "24117248\n",
            "24182784\n",
            "24248320\n",
            "24313856\n",
            "24379392\n",
            "24444928\n",
            "24510464\n",
            "24576000\n",
            "24641536\n",
            "24707072\n",
            "24772608\n",
            "24838144\n",
            "24903680\n",
            "24969216\n",
            "25034752\n",
            "25100288\n",
            "25165824\n",
            "25231360\n",
            "25296896\n",
            "25362432\n",
            "25427968\n",
            "25493504\n",
            "25559040\n",
            "25624576\n",
            "25690112\n",
            "25755648\n",
            "25821184\n",
            "25886720\n",
            "25952256\n",
            "26017792\n",
            "26083328\n",
            "26148864\n",
            "26214400\n",
            "26279936\n",
            "26345472\n",
            "26411008\n",
            "26476544\n",
            "26542080\n",
            "26607616\n",
            "26673152\n",
            "26738688\n",
            "26804224\n",
            "26869760\n",
            "26935296\n",
            "27000832\n",
            "27066368\n",
            "27131904\n",
            "27197440\n",
            "27262976\n",
            "27328512\n",
            "27394048\n",
            "27459584\n",
            "27525120\n",
            "27590656\n",
            "27656192\n",
            "27721728\n",
            "27787264\n",
            "27852800\n",
            "27918336\n",
            "27983872\n",
            "28049408\n",
            "28114944\n",
            "28180480\n",
            "28246016\n",
            "28311552\n",
            "28377088\n",
            "28442624\n",
            "28508160\n",
            "28573696\n",
            "28639232\n",
            "28704768\n",
            "28770304\n",
            "28835840\n",
            "28901376\n",
            "28966912\n",
            "29032448\n",
            "29097984\n",
            "29163520\n",
            "29229056\n",
            "29294592\n",
            "29360128\n",
            "29425664\n",
            "29491200\n"
          ],
          "name": "stdout"
        }
      ]
    },
    {
      "cell_type": "code",
      "metadata": {
        "id": "8EpS4yYUzwmt"
      },
      "source": [
        "my_f1_metric=the_f1_metric(y_pred_array,y_test_array)"
      ],
      "execution_count": null,
      "outputs": []
    },
    {
      "cell_type": "code",
      "metadata": {
        "id": "MOvyXZWJ0itf",
        "colab": {
          "base_uri": "https://localhost:8080/"
        },
        "outputId": "996a7681-684a-49bf-e0fa-e24e057598d6"
      },
      "source": [
        "print(\"F1 Metric, macro: \", my_f1_metric[0]/450)\n",
        "print(\"Jaccard Metric, macro: \",my_jaccard_metric[0]/450 )\n",
        "print(\"F1 Metric, weighted: \",my_f1_metric[1]/450 )\n",
        "print(\"Jaccard Metric, weighted: \",my_jaccard_metric[1]/450 )"
      ],
      "execution_count": null,
      "outputs": [
        {
          "output_type": "stream",
          "text": [
            "F1 Metric, macro:  0.41936291922546726\n",
            "Jaccard Metric, macro:  0.3665220112095642\n",
            "F1 Metric, weighted:  0.6559805565720129\n",
            "Jaccard Metric, weighted:  0.6059308706552987\n"
          ],
          "name": "stdout"
        }
      ]
    },
    {
      "cell_type": "code",
      "metadata": {
        "id": "AoRxlaqS8hZW",
        "colab": {
          "base_uri": "https://localhost:8080/"
        },
        "outputId": "0b68d7bd-6bd8-4b5b-c154-083e2e01eeae"
      },
      "source": [
        "end_time = datetime.now()\n",
        "print('\\nDuration: {}'.format(end_time - start_time))\n",
        "print (str(end_time))"
      ],
      "execution_count": null,
      "outputs": [
        {
          "output_type": "stream",
          "text": [
            "\n",
            "Duration: 0:54:53.317959\n",
            "2021-07-21 21:18:39.069785\n"
          ],
          "name": "stdout"
        }
      ]
    }
  ]
}