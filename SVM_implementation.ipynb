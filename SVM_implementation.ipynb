{
  "nbformat": 4,
  "nbformat_minor": 0,
  "metadata": {
    "colab": {
      "name": "SVM_implementation.ipynb",
      "provenance": [],
      "collapsed_sections": []
    },
    "kernelspec": {
      "display_name": "Python 3",
      "name": "python3"
    },
    "language_info": {
      "name": "python"
    }
  },
  "cells": [
    {
      "cell_type": "code",
      "metadata": {
        "id": "nqOB-j_9SWrc"
      },
      "source": [
        "import cv2\n",
        "from google.colab.patches import cv2_imshow\n",
        "import numpy as np\n",
        "from sklearn.linear_model import SGDClassifier\n",
        "import matplotlib.pyplot as plt\n",
        "import pandas as pd\n",
        "import pickle\n",
        "from datetime import datetime\n",
        "from sklearn.metrics import jaccard_score,accuracy_score,f1_score\n",
        "import tensorflow as tf\n",
        "import os\n",
        "from PIL import Image as im\n",
        "from google.colab import drive\n"
      ],
      "execution_count": null,
      "outputs": []
    },
    {
      "cell_type": "code",
      "metadata": {
        "id": "UrjhIG7Gb5Ub"
      },
      "source": [
        "\n",
        "\n",
        "def read_input(file_):\n",
        "    img = cv2.imread(folder + 'train_partition_images/full_color_training_' + str(file_) + '.png') #full colour rgb image ( 3 dimensional )\n",
        "    #print(img)\n",
        "    img = np.reshape(img, (256*256,3)) \n",
        "    #print(\"img_dim: \",img.ndim) \n",
        "    return img\n",
        "\n",
        "def read_test_input(file_):\n",
        "    img = cv2.imread(folder + 'test_partition_images/full_color_training_' + str(file_) + '.png') #full colour rgb image ( 3 dimensional )\n",
        "    #print(img)\n",
        "    img = np.reshape(img, (256*256,3)) \n",
        "    #print(\"img_dim: \",img.ndim) \n",
        "    return img"
      ],
      "execution_count": null,
      "outputs": []
    },
    {
      "cell_type": "code",
      "metadata": {
        "id": "rUcNpRdsdF_3"
      },
      "source": [
        "def read_labels(file_):\n",
        "    label_img = cv2.imread(folder + 'train_partition_ground_truth/ground_truth_training_' + str(file_) + '.png')\n",
        "    #print(\"label_img_before: \",label_img.ndim)\n",
        "    label = label_img[:,:,0] #one channel\n",
        "    labels = np.reshape(label, (256*256))\n",
        "    #print(label)\n",
        "    #print(\"label_dim: \",label.ndim)\n",
        "    return labels\n",
        "\n",
        "def read_test_labels(file_):\n",
        "    label_img = cv2.imread(folder + 'test_partition_ground_truth/ground_truth_training_' + str(file_) + '.png')\n",
        "    #print(\"label_img_before: \",label_img.ndim)\n",
        "    label = label_img[:,:,0] #one channel\n",
        "    labels = np.reshape(label, (256*256))\n",
        "    #print(label)\n",
        "    #print(\"label_dim: \",label.ndim)\n",
        "    return labels"
      ],
      "execution_count": null,
      "outputs": []
    },
    {
      "cell_type": "code",
      "metadata": {
        "id": "8qQmhTQTPBs7"
      },
      "source": [
        "def to_string(files,i):\n",
        "    return files['name'][i]\n"
      ],
      "execution_count": null,
      "outputs": []
    },
    {
      "cell_type": "code",
      "metadata": {
        "colab": {
          "base_uri": "https://localhost:8080/"
        },
        "id": "6mNOOLyieEnB",
        "outputId": "2b959425-a007-4fb2-b35a-143657f7cc1a"
      },
      "source": [
        "start_time = datetime.now()\n",
        "print(str(start_time))\n"
      ],
      "execution_count": null,
      "outputs": [
        {
          "output_type": "stream",
          "text": [
            "2021-07-10 23:24:01.888219\n"
          ],
          "name": "stdout"
        }
      ]
    },
    {
      "cell_type": "code",
      "metadata": {
        "id": "85lZRuupcklS"
      },
      "source": [
        "folder='/content/drive/MyDrive/SequoiaMulti_30/'\n"
      ],
      "execution_count": null,
      "outputs": []
    },
    {
      "cell_type": "code",
      "metadata": {
        "id": "51iQfr4EeIkl"
      },
      "source": [
        "files =pd.read_csv(folder + 'train.csv')\n"
      ],
      "execution_count": null,
      "outputs": []
    },
    {
      "cell_type": "code",
      "metadata": {
        "id": "JRg0DW02mdsY"
      },
      "source": [
        "#image=cv2.imread('/content/drive/MyDrive/SequoiaMulti_30/train_partition_images/full_color_training_1.png')\n",
        "#print(image)\n",
        "#print(image.shape)\n",
        "#print(image[:256,:256,0])\n",
        "#cv2_imshow(image[:256,:256,])"
      ],
      "execution_count": null,
      "outputs": []
    },
    {
      "cell_type": "code",
      "metadata": {
        "id": "PBbcAaHD374z"
      },
      "source": [
        "num = to_string(files,0)\n",
        "X_train = read_input(num)\n",
        "y_train = read_labels(num)"
      ],
      "execution_count": null,
      "outputs": []
    },
    {
      "cell_type": "code",
      "metadata": {
        "id": "kRPelb6YoUay"
      },
      "source": [
        "model = SGDClassifier(loss='hinge',fit_intercept=False)"
      ],
      "execution_count": null,
      "outputs": []
    },
    {
      "cell_type": "code",
      "metadata": {
        "colab": {
          "base_uri": "https://localhost:8080/"
        },
        "id": "mnF4z8NcoaTL",
        "outputId": "07c2374e-e9a5-4982-86a7-e4dc9ef75ee6"
      },
      "source": [
        "for file_ in range(1,len(files['name'])):\n",
        "    num = to_string(files,file_)\n",
        "    if(file_ == 1001 or file_ == 2001):\n",
        "        X_train = read_input(num)\n",
        "        y_train = read_labels(num)\n",
        "        continue\n",
        "        \n",
        "    if(file_%100 == 0):\n",
        "        print(num)\n",
        "        #print(file_)\n",
        "    #print(num)\n",
        "    X_train = np.concatenate((X_train,read_input(num)))\n",
        "    y_train = np.concatenate((y_train,read_labels(num)))\n",
        "    #break\n",
        "    if( file_%1000==0 and file_!=0):\n",
        "        print('Done Loading:')\n",
        "        model_log = model.partial_fit(X_train,y_train,classes=np.unique(y_train))\n",
        "        #break\n",
        "\n",
        "\n"
      ],
      "execution_count": null,
      "outputs": [
        {
          "output_type": "stream",
          "text": [
            "101\n",
            "201\n",
            "301\n",
            "401\n",
            "501\n",
            "601\n",
            "701\n",
            "801\n",
            "901\n",
            "1001\n",
            "Done Loading:\n",
            "1101\n",
            "1201\n",
            "1301\n",
            "1401\n",
            "1501\n",
            "1601\n",
            "1701\n",
            "1801\n"
          ],
          "name": "stdout"
        }
      ]
    },
    {
      "cell_type": "code",
      "metadata": {
        "colab": {
          "base_uri": "https://localhost:8080/"
        },
        "id": "honunMxDootW",
        "outputId": "a9556338-2d01-4dae-a6f2-84bbf2d80e03"
      },
      "source": [
        "\n",
        "print(X_train.shape)\n",
        "print(y_train.shape)\n",
        "\n",
        "pickle.dump(model_log, open(folder + 'linear_svm_' + str(file_) + '_images_fold_' + '.sav', 'wb'))\n",
        "\n",
        "\n"
      ],
      "execution_count": null,
      "outputs": [
        {
          "output_type": "stream",
          "text": [
            "(57278464, 3)\n",
            "(57278464,)\n"
          ],
          "name": "stdout"
        }
      ]
    },
    {
      "cell_type": "code",
      "metadata": {
        "id": "BiiEZrPHUm1_"
      },
      "source": [
        "#from google.colab import drive\n",
        "#drive.mount('/content/drive')"
      ],
      "execution_count": null,
      "outputs": []
    },
    {
      "cell_type": "code",
      "metadata": {
        "id": "VhdUXbMLuaEI"
      },
      "source": [
        ""
      ],
      "execution_count": null,
      "outputs": []
    },
    {
      "cell_type": "code",
      "metadata": {
        "id": "8C4_v7-L8kdw"
      },
      "source": [
        "model = pickle.load(open(folder + 'linear_svm_1874_images_fold_.sav', 'rb'))\n"
      ],
      "execution_count": null,
      "outputs": []
    },
    {
      "cell_type": "code",
      "metadata": {
        "id": "QqAW1kGV1Cw3"
      },
      "source": [
        "test_files = pd.read_csv(folder + 'test.csv') "
      ],
      "execution_count": null,
      "outputs": []
    },
    {
      "cell_type": "code",
      "metadata": {
        "id": "XI0dgUkV89W2"
      },
      "source": [
        "num = to_string(test_files,0)\n",
        "X_test = read_test_input(num)\n",
        "y_test = read_test_labels(num)"
      ],
      "execution_count": null,
      "outputs": []
    },
    {
      "cell_type": "code",
      "metadata": {
        "id": "3-sPjmnokhtK"
      },
      "source": [
        "predictions_folder = folder + 'Predictions_' + '/'\n",
        "if not os.path.exists(predictions_folder):\n",
        "    os.makedirs(predictions_folder)"
      ],
      "execution_count": null,
      "outputs": []
    },
    {
      "cell_type": "code",
      "metadata": {
        "id": "13sKlzCPkPxG"
      },
      "source": [
        "height=256\n",
        "width=256\n",
        "final_img = 0\n",
        "points = height*width"
      ],
      "execution_count": null,
      "outputs": []
    },
    {
      "cell_type": "code",
      "metadata": {
        "id": "sk4O3ga3_ELH"
      },
      "source": [
        "for file_ in range(0,len(test_files['name'])):\n",
        "    num = to_string(test_files,file_)\n",
        "    \n",
        "        \n",
        "    #if(file_%100 == 0):\n",
        "        #print(file_)\n",
        "  \n",
        "    y_pred = model.predict(read_test_input(num))\n",
        "    y_pred_img = np.reshape(y_pred,(height,width,1))\n",
        "    #print(y_pred_img.shape)\n",
        "    \n",
        "    final_img = np.stack((y_pred_img,y_pred_img,y_pred_img),axis=2)\n",
        "    #print(final_img.shape)\n",
        "    final_img = final_img[:,:,:,0]\n",
        "    #print(final_img.shape)\n",
        "    #print(np.unique(final_img))\n",
        "    y_color = np.where(final_img==1,60,final_img)\n",
        "    y_color = np.where(y_color==2,255,y_color)\n",
        "    cv2.imwrite(predictions_folder + 'pred_' + str(num) + '.png', y_color)\n",
        "    #print(np.unique(y_color))\n",
        "    #plt.imshow(y_color)\n",
        "    #plt.show()\n",
        "    #if(file_ == 2):\n",
        "    #  break\n",
        "        \n"
      ],
      "execution_count": null,
      "outputs": []
    },
    {
      "cell_type": "code",
      "metadata": {
        "id": "AoRxlaqS8hZW"
      },
      "source": [
        "end_time = datetime.now()\n",
        "print('\\nDuration: {}'.format(end_time - start_time))\n",
        "print (str(end_time))"
      ],
      "execution_count": null,
      "outputs": []
    }
  ]
}